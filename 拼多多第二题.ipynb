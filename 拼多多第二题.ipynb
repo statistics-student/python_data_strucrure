{
 "cells": [
  {
   "cell_type": "markdown",
   "metadata": {},
   "source": [
    "# 拼多多第二题"
   ]
  },
  {
   "cell_type": "code",
   "execution_count": null,
   "metadata": {},
   "outputs": [
    {
     "name": "stdout",
     "output_type": "stream",
     "text": [
      "3647428 293884\n",
      "071920730352\n",
      "456 56\n",
      "25536\n"
     ]
    }
   ],
   "source": [
    "while True:\n",
    "    try:\n",
    "        start_str=input()\n",
    "        max_str,min_str=start_str.split(' ')\n",
    "        if len(max_str)>=len(min_str):\n",
    "            pass\n",
    "        else:\n",
    "            max_str,min_str=min_str,max_str\n",
    "        max_len,min_len=len(max_str),len(min_str)\n",
    "        c=[[] for i in range(min_len)]\n",
    "        for i in range(min_len):\n",
    "            for k in range(i):\n",
    "                c[i].append('0')\n",
    "            add_mid=0\n",
    "            for j in range(max_len):\n",
    "                add_mid=add_mid+int(min_str[-(i+1)])*int(max_str[-(j+1)])\n",
    "                if add_mid>=10:\n",
    "                    c[i].append(str(add_mid%10))\n",
    "                    add_mid=add_mid//10\n",
    "                    if j==max_len-1:\n",
    "                        c[i].append(str(add_mid))\n",
    "                else:\n",
    "                    c[i].append(str(add_mid))\n",
    "                    add_mid=0\n",
    "        for i in c:\n",
    "            for j in range(len(c[-1])-len(i)):\n",
    "                i.append('0')\n",
    "        end_arr=[]\n",
    "        sum_num=0\n",
    "        for i in range(len(c[-1])):\n",
    "            for j in c:\n",
    "                sum_num=sum_num+int(j[i])\n",
    "            if sum_num>=10:\n",
    "                end_arr.append(str(sum_num%10))\n",
    "                sum_num=sum_num//10\n",
    "            else:\n",
    "                end_arr.append(str(sum_num))\n",
    "                sum_num=0\n",
    "        end_arr.reverse()\n",
    "        end_str=''\n",
    "        for i in end_arr:\n",
    "            end_str=end_str+i\n",
    "        print(end_str)\n",
    "    except:\n",
    "        break"
   ]
  },
  {
   "cell_type": "code",
   "execution_count": null,
   "metadata": {},
   "outputs": [],
   "source": []
  }
 ],
 "metadata": {
  "kernelspec": {
   "display_name": "Python 3",
   "language": "python",
   "name": "python3"
  },
  "language_info": {
   "codemirror_mode": {
    "name": "ipython",
    "version": 3
   },
   "file_extension": ".py",
   "mimetype": "text/x-python",
   "name": "python",
   "nbconvert_exporter": "python",
   "pygments_lexer": "ipython3",
   "version": "3.7.1"
  }
 },
 "nbformat": 4,
 "nbformat_minor": 2
}
