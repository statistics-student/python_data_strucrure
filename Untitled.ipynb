{
 "cells": [
  {
   "cell_type": "code",
   "execution_count": 19,
   "metadata": {
    "ExecuteTime": {
     "end_time": "2019-08-28T13:49:32.211737Z",
     "start_time": "2019-08-28T13:49:32.207748Z"
    }
   },
   "outputs": [],
   "source": [
    "import os"
   ]
  },
  {
   "cell_type": "code",
   "execution_count": 20,
   "metadata": {
    "ExecuteTime": {
     "end_time": "2019-08-28T13:49:34.777740Z",
     "start_time": "2019-08-28T13:49:34.772754Z"
    }
   },
   "outputs": [],
   "source": [
    "import re"
   ]
  },
  {
   "cell_type": "code",
   "execution_count": 21,
   "metadata": {
    "ExecuteTime": {
     "end_time": "2019-08-28T13:49:36.870610Z",
     "start_time": "2019-08-28T13:49:36.865588Z"
    }
   },
   "outputs": [],
   "source": [
    "file_list = os.listdir()"
   ]
  },
  {
   "cell_type": "code",
   "execution_count": 22,
   "metadata": {
    "ExecuteTime": {
     "end_time": "2019-08-28T13:49:38.918101Z",
     "start_time": "2019-08-28T13:49:38.912149Z"
    }
   },
   "outputs": [],
   "source": [
    "def find_py(file_str):\n",
    "    pattern = re.compile('\\.py')\n",
    "    if pattern.search(file_str) != None:\n",
    "        return file_str"
   ]
  },
  {
   "cell_type": "code",
   "execution_count": 24,
   "metadata": {
    "ExecuteTime": {
     "end_time": "2019-08-28T13:50:41.493416Z",
     "start_time": "2019-08-28T13:50:41.488429Z"
    }
   },
   "outputs": [],
   "source": [
    "file_list1 = [find_py(i) for i in file_list if find_py(i) != None]"
   ]
  },
  {
   "cell_type": "code",
   "execution_count": 25,
   "metadata": {
    "ExecuteTime": {
     "end_time": "2019-08-28T13:50:44.486408Z",
     "start_time": "2019-08-28T13:50:44.479472Z"
    },
    "collapsed": true
   },
   "outputs": [
    {
     "data": {
      "text/plain": [
       "['360分金子.py',\n",
       " 'binary_search.py',\n",
       " 'Graph_class.py',\n",
       " 'KMP.py',\n",
       " 'select_sort.py',\n",
       " '乒乓球赛程安排-分治.py',\n",
       " '二叉树存储及遍历.py',\n",
       " '冒泡排序.py',\n",
       " '分土地.py',\n",
       " '动态规划-背包问题.py',\n",
       " '华为-字符串重复输出.py',\n",
       " '华为数组题.py',\n",
       " '回溯法-迷宫问题.py',\n",
       " '子数组最大和.py',\n",
       " '希尔排序-改进版.py',\n",
       " '希尔排序-未改进.py',\n",
       " '广义优先遍历-岛屿个数.py',\n",
       " '广度优先遍历.py',\n",
       " '循环队列.py',\n",
       " '快速排序.py',\n",
       " '快速排序动图展示.py',\n",
       " '插入排序.py',\n",
       " '携程-求解唯一解的方程组.py',\n",
       " '最小生成树-Kruskal算法.py',\n",
       " '最小生成树-prime算法.py',\n",
       " '最短路径-Dijkstra算法.py',\n",
       " '最长递增子序列.py',\n",
       " '深度优先遍历.py',\n",
       " '百度乘法表.py',\n",
       " '百度行数转换.py',\n",
       " '腾讯-最大回文数.py',\n",
       " '腾讯打印最小数.py',\n",
       " '迷宫问题.py']"
      ]
     },
     "execution_count": 25,
     "metadata": {},
     "output_type": "execute_result"
    }
   ],
   "source": [
    "file_list1"
   ]
  },
  {
   "cell_type": "code",
   "execution_count": 37,
   "metadata": {
    "ExecuteTime": {
     "end_time": "2019-08-28T14:13:07.350748Z",
     "start_time": "2019-08-28T14:13:07.333792Z"
    }
   },
   "outputs": [],
   "source": [
    "with open(\"算法代码.md\",'a',encoding = 'utf-8') as file_1:\n",
    "    for file_ in file_list1:\n",
    "        file_1.write('##' + file_ + '\\n')\n",
    "        file_1.write('```python'+'\\n')\n",
    "        file_1.write(open(file_,'r',encoding = 'utf-8').read())\n",
    "        file_1.write('\\n')\n",
    "        file_1.write('```'+'\\n')\n",
    "        file_1.write(\"==============================================================================\"+'\\n')"
   ]
  },
  {
   "cell_type": "code",
   "execution_count": null,
   "metadata": {},
   "outputs": [],
   "source": []
  }
 ],
 "metadata": {
  "kernelspec": {
   "display_name": "Python 3",
   "language": "python",
   "name": "python3"
  },
  "language_info": {
   "codemirror_mode": {
    "name": "ipython",
    "version": 3
   },
   "file_extension": ".py",
   "mimetype": "text/x-python",
   "name": "python",
   "nbconvert_exporter": "python",
   "pygments_lexer": "ipython3",
   "version": "3.7.1"
  },
  "latex_envs": {
   "LaTeX_envs_menu_present": true,
   "autoclose": false,
   "autocomplete": true,
   "bibliofile": "biblio.bib",
   "cite_by": "apalike",
   "current_citInitial": 1,
   "eqLabelWithNumbers": true,
   "eqNumInitial": 1,
   "hotkeys": {
    "equation": "Ctrl-E",
    "itemize": "Ctrl-I"
   },
   "labels_anchors": false,
   "latex_user_defs": false,
   "report_style_numbering": false,
   "user_envs_cfg": false
  },
  "toc": {
   "base_numbering": 1,
   "nav_menu": {},
   "number_sections": true,
   "sideBar": true,
   "skip_h1_title": false,
   "title_cell": "Table of Contents",
   "title_sidebar": "Contents",
   "toc_cell": false,
   "toc_position": {},
   "toc_section_display": true,
   "toc_window_display": false
  },
  "varInspector": {
   "cols": {
    "lenName": 16,
    "lenType": 16,
    "lenVar": 40
   },
   "kernels_config": {
    "python": {
     "delete_cmd_postfix": "",
     "delete_cmd_prefix": "del ",
     "library": "var_list.py",
     "varRefreshCmd": "print(var_dic_list())"
    },
    "r": {
     "delete_cmd_postfix": ") ",
     "delete_cmd_prefix": "rm(",
     "library": "var_list.r",
     "varRefreshCmd": "cat(var_dic_list()) "
    }
   },
   "types_to_exclude": [
    "module",
    "function",
    "builtin_function_or_method",
    "instance",
    "_Feature"
   ],
   "window_display": false
  }
 },
 "nbformat": 4,
 "nbformat_minor": 2
}
