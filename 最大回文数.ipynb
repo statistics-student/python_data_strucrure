{
 "cells": [
  {
   "cell_type": "code",
   "execution_count": null,
   "metadata": {},
   "outputs": [],
   "source": [
    "# 循环隔两个数删除"
   ]
  },
  {
   "cell_type": "code",
   "execution_count": 55,
   "metadata": {},
   "outputs": [],
   "source": [
    "def fx2(N):\n",
    "    if N==1:\n",
    "        return 0\n",
    "    elif N==2:\n",
    "        return 1\n",
    "    else:\n",
    "        arr=list(range(0,N))\n",
    "        while True:\n",
    "            arr1,arr2=arr[0:2],arr[2:]\n",
    "            arr2.remove(arr2[0])\n",
    "            arr=arr2+arr1\n",
    "            if len(arr)==2:\n",
    "                break\n",
    "        return arr[1]"
   ]
  },
  {
   "cell_type": "code",
   "execution_count": 105,
   "metadata": {},
   "outputs": [],
   "source": [
    "arr='abdinbda'\n",
    "brr=arr[::-1]"
   ]
  },
  {
   "cell_type": "markdown",
   "metadata": {},
   "source": [
    "# 回文"
   ]
  },
  {
   "cell_type": "code",
   "execution_count": 2,
   "metadata": {},
   "outputs": [],
   "source": [
    "def LCS(arr1,arr2):\n",
    "    if len(arr1)<=len(arr2):\n",
    "        x,y=arr1,arr2\n",
    "    else:\n",
    "        y,x=arr1,arr2 \n",
    "    x_len=len(x)\n",
    "    y_len=len(y)\n",
    "    web=[[0 for i in range(x_len+1)] for i in range(y_len+1)]\n",
    "    chr_web=[[0 for i in range(x_len)] for i in range(y_len)]\n",
    "    out_str=''\n",
    "    r_local=[]\n",
    "    c_local=[]\n",
    "    for i in range(1,y_len+1):\n",
    "        for j in range(1,x_len+1):\n",
    "            if y[i-1]==x[j-1]:\n",
    "                web[i][j]=web[i-1][j-1]+1\n",
    "                chr_web[i-1][j-1]=y[i-1]         \n",
    "            else:\n",
    "                web[i][j]=max(web[i-1][j],web[i][j-1])\n",
    "    return web[y_len][x_len],chr_web"
   ]
  },
  {
   "cell_type": "code",
   "execution_count": 18,
   "metadata": {},
   "outputs": [],
   "source": [
    "a='ACCGGTCGAGTGCGCGGAAGCCGGCCGAA'\n",
    "b='GTCGTTCGGAATGCCGTTGCTCTGTAAA'"
   ]
  },
  {
   "cell_type": "code",
   "execution_count": 23,
   "metadata": {},
   "outputs": [
    {
     "data": {
      "text/plain": [
       "28"
      ]
     },
     "execution_count": 23,
     "metadata": {},
     "output_type": "execute_result"
    }
   ],
   "source": [
    "len(b)"
   ]
  },
  {
   "cell_type": "code",
   "execution_count": 76,
   "metadata": {},
   "outputs": [],
   "source": [
    "def lcs(x,y):\n",
    "    x_len=len(x)\n",
    "    y_len=len(y)\n",
    "    web=[[0 for i in range(x_len+1)] for i in range(y_len+1)]\n",
    "    out_str=''\n",
    "    r_local=[]\n",
    "    c_local=[]\n",
    "    for i in range(1,y_len+1):\n",
    "        for j in range(1,x_len+1):\n",
    "            if y[i-1]==x[j-1]:\n",
    "                web[i][j]=web[i-1][j-1]+1 \n",
    "            else:\n",
    "                web[i][j]=max(web[i-1][j],web[i][j-1])\n",
    "    return web"
   ]
  },
  {
   "cell_type": "code",
   "execution_count": 103,
   "metadata": {},
   "outputs": [],
   "source": [
    "def print_lcs(web,x,y,x_len,y_len):\n",
    "    s=''\n",
    "    while (x_len>=0 and y_len>=0):\n",
    "        if x[x_len]==y[y_len]:\n",
    "            s=s+x[x_len]\n",
    "            x_len=x_len-1\n",
    "            y_len=y_len-1\n",
    "        else:\n",
    "            if web[y_len][x_len+1]>=web[y_len+1][x_len]:\n",
    "                y_len=y_len-1\n",
    "            else:\n",
    "                x_len=x_len-1\n",
    "    return s[::-1]"
   ]
  },
  {
   "cell_type": "code",
   "execution_count": 107,
   "metadata": {},
   "outputs": [],
   "source": [
    "arr='abdinbda'\n",
    "arrb=arr[::-1]"
   ]
  },
  {
   "cell_type": "code",
   "execution_count": 109,
   "metadata": {},
   "outputs": [
    {
     "data": {
      "text/plain": [
       "'adbda'"
      ]
     },
     "execution_count": 109,
     "metadata": {},
     "output_type": "execute_result"
    }
   ],
   "source": [
    "web=lcs(arr,arrb)\n",
    "print_lcs(web,arr,arrb,len(arr)-1,len(arr)-1)"
   ]
  },
  {
   "cell_type": "code",
   "execution_count": 111,
   "metadata": {},
   "outputs": [
    {
     "data": {
      "text/plain": [
       "['A', 'B', 'C', 'D']"
      ]
     },
     "execution_count": 111,
     "metadata": {},
     "output_type": "execute_result"
    }
   ],
   "source": [
    "sorted({'A':4,'B':'2','D':3,'C':0})"
   ]
  },
  {
   "cell_type": "code",
   "execution_count": 113,
   "metadata": {},
   "outputs": [
    {
     "data": {
      "text/plain": [
       "\"['c', 'd', 's']\""
      ]
     },
     "execution_count": 113,
     "metadata": {},
     "output_type": "execute_result"
    }
   ],
   "source": [
    "str(sorted('scd'))"
   ]
  },
  {
   "cell_type": "code",
   "execution_count": 114,
   "metadata": {},
   "outputs": [
    {
     "data": {
      "text/plain": [
       "'345 ab s'"
      ]
     },
     "execution_count": 114,
     "metadata": {},
     "output_type": "execute_result"
    }
   ],
   "source": [
    "''+'345 '+'ab s'"
   ]
  },
  {
   "cell_type": "code",
   "execution_count": 115,
   "metadata": {},
   "outputs": [
    {
     "data": {
      "text/plain": [
       "['1', '2', '3', '4', '5']"
      ]
     },
     "execution_count": 115,
     "metadata": {},
     "output_type": "execute_result"
    }
   ],
   "source": [
    "sorted('12354')"
   ]
  },
  {
   "cell_type": "code",
   "execution_count": 1,
   "metadata": {},
   "outputs": [
    {
     "data": {
      "text/plain": [
       "2"
      ]
     },
     "execution_count": 1,
     "metadata": {},
     "output_type": "execute_result"
    }
   ],
   "source": [
    "4//2"
   ]
  },
  {
   "cell_type": "code",
   "execution_count": 2,
   "metadata": {},
   "outputs": [
    {
     "data": {
      "text/plain": [
       "[4]"
      ]
     },
     "execution_count": 2,
     "metadata": {},
     "output_type": "execute_result"
    }
   ],
   "source": [
    "[1,2,3,4][3:]"
   ]
  },
  {
   "cell_type": "code",
   "execution_count": 8,
   "metadata": {},
   "outputs": [],
   "source": [
    "class Solution:\n",
    "    def searchInsert(self,nums,target):\n",
    "        point=0\n",
    "        while True:\n",
    "            if len(nums)==2:\n",
    "                if target<=nums[0]:\n",
    "                    return point+0\n",
    "                    break\n",
    "                elif target>nums[1]:\n",
    "                    return point+2\n",
    "                    break\n",
    "                elif target<=nums[1]:\n",
    "                    return point+1\n",
    "                    break\n",
    "            elif len(nums)==1:\n",
    "                if target<=nums[0]:\n",
    "                    return point+0\n",
    "                    break\n",
    "                else:\n",
    "                    print(point)\n",
    "                    return point+1\n",
    "                    break\n",
    "            else:\n",
    "                if target==nums[len(nums)//2]:\n",
    "                    return point+len(nums)//2\n",
    "                    break\n",
    "                elif target>nums[len(nums)//2]:\n",
    "                    nums=nums[len(nums)//2+1:]\n",
    "                    point=point+len(nums)//2+1\n",
    "                    print(point)\n",
    "                else:\n",
    "                    nums=nums[0:len(nums)//2]\n",
    "                    point=point"
   ]
  },
  {
   "cell_type": "code",
   "execution_count": 9,
   "metadata": {},
   "outputs": [],
   "source": [
    "m=Solution()"
   ]
  },
  {
   "cell_type": "code",
   "execution_count": 10,
   "metadata": {},
   "outputs": [
    {
     "name": "stdout",
     "output_type": "stream",
     "text": [
      "1\n",
      "1\n"
     ]
    },
    {
     "data": {
      "text/plain": [
       "2"
      ]
     },
     "execution_count": 10,
     "metadata": {},
     "output_type": "execute_result"
    }
   ],
   "source": [
    "m.searchInsert([1,3,5,6],7)"
   ]
  },
  {
   "cell_type": "code",
   "execution_count": null,
   "metadata": {},
   "outputs": [],
   "source": []
  }
 ],
 "metadata": {
  "kernelspec": {
   "display_name": "Python 3",
   "language": "python",
   "name": "python3"
  },
  "language_info": {
   "codemirror_mode": {
    "name": "ipython",
    "version": 3
   },
   "file_extension": ".py",
   "mimetype": "text/x-python",
   "name": "python",
   "nbconvert_exporter": "python",
   "pygments_lexer": "ipython3",
   "version": "3.7.1"
  }
 },
 "nbformat": 4,
 "nbformat_minor": 2
}
